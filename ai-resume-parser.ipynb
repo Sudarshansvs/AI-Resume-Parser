{
 "cells": [
  {
   "cell_type": "code",
   "execution_count": 1,
   "id": "296ab601",
   "metadata": {},
   "outputs": [],
   "source": [
    "import boto3\n",
    "import json\n",
    "import nltk\n",
    "\n",
    "Textract = boto3.client('textract')\n",
    "bedrock = boto3.client('bedrock-runtime')\n",
    "\n",
    "response = Textract.start_document_analysis(\n",
    "    DocumentLocation={\n",
    "        'S3Object': {\n",
    "            'Bucket': 'raw-files-vvsks',\n",
    "            'Name': 'resume-sample.pdf'\n",
    "        }\n",
    "    },\n",
    "    FeatureTypes=['TABLES','LAYOUT']\n",
    ")"
   ]
  },
  {
   "cell_type": "code",
   "execution_count": 2,
   "id": "bc764e4f",
   "metadata": {},
   "outputs": [],
   "source": [
    "content = Textract.get_document_analysis(JobId=response['JobId'])"
   ]
  },
  {
   "cell_type": "code",
   "execution_count": 3,
   "id": "929c145f",
   "metadata": {},
   "outputs": [],
   "source": [
    "def Get_document_analysis (jobId):\n",
    "    blocks = []marketing executive\n",
    "    response = Textract.get_document_analysis(JobId=jobId)\n",
    "    blocks += response['Blocks']\n",
    "    while 'NextToken' in response:\n",
    "        response = Textract.get_document_analysis(JobId=jobId, NextToken = response['NextToken'])\n",
    "        blocks += response['Blocks']\n",
    "    return blocks"
   ]
  },
  {
   "cell_type": "code",
   "execution_count": 4,
   "id": "8923de44",
   "metadata": {},
   "outputs": [],
   "source": [
    "\n",
    "def get_text(result, blocks_map):\n",
    "    text = ''\n",
    "    if 'Relationships' in result:\n",
    "        for relationship in result['Relationships']:\n",
    "            if relationship['Type'] == 'CHILD':\n",
    "                for child_id in relationship['Ids']:\n",
    "                    try:\n",
    "                        word = blocks_map[child_id]\n",
    "                        if word['BlockType'] == 'WORD':\n",
    "                            text += word['Text'] + ' '\n",
    "                        if word['BlockType'] == 'SELECTION_ELEMENT':\n",
    "                            if word['SelectionStatus'] == 'SELECTED':\n",
    "                                text += 'X '\n",
    "                    except KeyError:\n",
    "                        print(\"Error extracting Table data - {}:\".format(KeyError))\n",
    "    return text\n",
    "\n",
    "\n",
    "def get_rows_columns_map(table_result, blocks_map):\n",
    "    rows = {}\n",
    "    for relationship in table_result['Relationships']:\n",
    "        if relationship['Type'] == 'CHILD':\n",
    "            for child_id in relationship['Ids']:\n",
    "                try:\n",
    "                    cell = blocks_map[child_id]\n",
    "                    if cell['BlockType'] == 'CELL':\n",
    "                        row_index = cell['RowIndex']\n",
    "                        col_index = cell['ColumnIndex']\n",
    "                        if row_index not in rows:\n",
    "                            # create new row\n",
    "                            rows[row_index] = {}\n",
    "\n",
    "                        # get the text value\n",
    "                        rows[row_index][col_index] = get_text(cell, blocks_map)\n",
    "                except KeyError:\n",
    "                    print(\"Error extracting Table data - {}:\".format(KeyError))\n",
    "                    pass\n",
    "    return rows\n",
    "\n",
    "def generate_table_csv(table_result, blocks_map, table_index):\n",
    "    rows = get_rows_columns_map(table_result, blocks_map)\n",
    "\n",
    "    table_id = str(table_index)\n",
    "\n",
    "    csv = '\\n\\nTable: {0}\\n\\n'.format(table_id)\n",
    "\n",
    "    for row_index, cols in rows.items():\n",
    "\n",
    "        for col_index, text in cols.items():\n",
    "            csv += '{}'.format(text) + \",\"\n",
    "        csv += '\\n'\n",
    "\n",
    "    return csv\n",
    "\n",
    "\n",
    "\n",
    "def get_table_csv_results(blocks):\n",
    "\n",
    "    blocks_map = {}\n",
    "    table_blocks = []\n",
    "    for block in blocks:\n",
    "        blocks_map[block['Id']] = block\n",
    "        if block['BlockType'] == \"TABLE\":\n",
    "            table_blocks.append(block)\n",
    "\n",
    "    if len(table_blocks) <= 0:\n",
    "        return \" NO Table in this page \"\n",
    "\n",
    "    csv = ''\n",
    "    for index, table in enumerate(table_blocks):\n",
    "        csv += generate_table_csv(table, blocks_map, index + 1)\n",
    "\n",
    "    return csv\n",
    "\n",
    "def detect_cells (blocks):\n",
    "    ids = []\n",
    "    for block in blocks:\n",
    "        if block['BlockType'] == 'CELL':\n",
    "            if 'Relationships' in block:\n",
    "                for relationship in block['Relationships']: \n",
    "                    ids+= (relationship['Ids'])\n",
    "            else:\n",
    "                ids+= (block['Id'])\n",
    "    return ids\n",
    "\n",
    "\n",
    "def get_line_text(page):\n",
    "    text = ''\n",
    "    Ids = detect_cells(page)\n",
    "    for block in page:\n",
    "        if block['BlockType'] == 'LINE':\n",
    "            is_in_cell = False  # Flag to check if the LINE block is within a CELL block\n",
    "            for relationship in block['Relationships']:\n",
    "                for Id in relationship['Ids']:\n",
    "                    if Id in Ids:\n",
    "                        is_in_cell = True  # This LINE block is within a CELL block\n",
    "                        break\n",
    "            if not is_in_cell:\n",
    "                text += ' ' + block['Text']+'\\n'\n",
    "    return text\n"
   ]
  },
  {
   "cell_type": "code",
   "execution_count": 5,
   "id": "1869fe0b",
   "metadata": {},
   "outputs": [],
   "source": [
    "blocks = Get_document_analysis(response['JobId'])"
   ]
  },
  {
   "cell_type": "code",
   "execution_count": 6,
   "id": "40f19265",
   "metadata": {},
   "outputs": [],
   "source": [
    "resume_text = get_line_text(blocks)\n",
    "resume_tables = get_table_csv_results(blocks)"
   ]
  },
  {
   "cell_type": "code",
   "execution_count": 8,
   "id": "11fc4783",
   "metadata": {},
   "outputs": [
    {
     "name": "stdout",
     "output_type": "stream",
     "text": [
      " Name: Samarth Sandeep Joshi\n",
      " Email ID: samarthjoshi411@gmail.com\n",
      " Mob no.: 8149340630\n",
      " Computer: 1- - MS-CIT\n",
      " 2- Digital Marketing\n",
      " Job Skills:\n",
      " Email marketing, SEO on\n",
      " page/off page/ google\n",
      " ads/ Facebook ads.\n",
      " EXPERIENCE:\n",
      " COMPANY NAME: REPORTS AND DATA\n",
      " POSITION: Email marketing executive (19 April 2021 - 6 August 2021)\n",
      " COMPANY NAME: ADVERT DIGITAL MANTRA\n",
      " POSITION: Digital marketing executive (Internship) (6 August 2021 - 31 January 2022)\n",
      " Company name : IT PRENEUR\n",
      " Position: digital marketing executive ( 13 November - 2022 - 1 August 2023\n",
      " EDUCATION\n",
      " STRENGTHS\n",
      " Ability to work under any Pressure\n",
      " HOBBIES\n",
      " Like to play Football, Bike Riding, Listening Songs\n",
      " PERSONAL DETAILS\n",
      " DECLARATION\n",
      " I hereby declare that all the details furnished here are true to the best of my knowledge and belief.\n",
      " Samarth Sandeep Joshi\n",
      "\n"
     ]
    }
   ],
   "source": [
    "print(resume_text)"
   ]
  },
  {
   "cell_type": "code",
   "execution_count": 7,
   "id": "17819d0a",
   "metadata": {},
   "outputs": [
    {
     "name": "stdout",
     "output_type": "stream",
     "text": [
      "\n",
      "\n",
      "Table: 1\n",
      "\n",
      "Degree/Course ,Institute/College ,University/Board ,Percentage/CGPA ,Year of passing ,\n",
      "SSC ,PS English Medium Technical High School, Solapur ,Maharashtra State Board ,41% ,2016 ,\n",
      "HSC ,MIT Vishwashanti Gurukul, Solapur ,Maharashtra State Board ,65% ,2017 ,\n",
      "BBA ,Mangalvedhekar Institute of Management, Solapur ,Solapur University ,77.77% ,2021 ,\n",
      "MBA ,SVERI's College of Engineering, Pandharpur ,Solapur University ,64% ,2023 ,\n",
      "\n",
      "\n",
      "Table: 2\n",
      "\n",
      "Address. No. 02, ,Dange Nagar, Barshi road, Bale, North Solapur, Solapur, Maharashtra, 413002 ,\n",
      "Date of Birth: ,11-11-2000 ,\n",
      "Gender: ,Male ,\n",
      "Nationality: ,India. ,\n",
      "Marital Status: ,Single ,\n",
      "Languages ,Known: Marathi, Hindi, English ,\n",
      "\n"
     ]
    }
   ],
   "source": [
    "print(resume_tables)"
   ]
  },
  {
   "cell_type": "code",
   "execution_count": 10,
   "id": "de29c14b",
   "metadata": {},
   "outputs": [],
   "source": [
    "\n",
    "applicantDetails = \"TEXT IN RESUME :\\n\"+resume_text+\"\\n\\n\\nTABLES IN RESUME :\\n\"+resume_tables\n",
    "\n",
    "roleAndDescription = 'marketing executive'\n",
    "\n",
    "output_format = \"\"\"\n",
    "\"Candidate Name\": \"<<CANDIDATE NAME>>\",\n",
    "\"Positives\": \"<<YOUR ASSESMENT>>\",\n",
    "\"Negitives\": \"<<YOUR ASSESMENT>>\",\n",
    "\"Score out of 10\" : \"<<YOUR SCORE>>\",\n",
    "\"Is candidate suitable for the role\" : \"<<YES / NO>>\",\n",
    "\"Remarks\" : \"<<YOUR REMARKS>>\",\n",
    "\"Suggestions to applicant\" : \"<<YOUR SUGGESTIONS>>\",\n",
    "\"Remarks\" : \"<<YOUR REMARKS>>\"\n",
    "\"\"\""
   ]
  },
  {
   "cell_type": "code",
   "execution_count": 11,
   "id": "e447e150",
   "metadata": {},
   "outputs": [],
   "source": [
    "\n",
    "prompt =f\"\"\"\n",
    "Human:\n",
    "<Resume>\n",
    "{applicantDetails}\n",
    "</Resume>\n",
    "Based on the provided resume, please assess whether the applicant's qualifications and experience align with the requirements and expectations of the position\n",
    "nRole and Guidelines:\n",
    "{roleAndDescription}\n",
    "\n",
    "Answer in the the following JSON format output\n",
    "{output_format}\n",
    "\n",
    "Assistant:\"\"\"\n",
    "\n"
   ]
  },
  {
   "cell_type": "code",
   "execution_count": 13,
   "id": "e1b55628",
   "metadata": {},
   "outputs": [],
   "source": [
    "body = json.dumps({\"prompt\": prompt,\"max_tokens_to_sample\": 300,\"temperature\": 0.001,\"top_p\": 0.9,})\n",
    "modelId = 'anthropic.claude-v2'\n",
    "accept = 'application/json'\n",
    "contentType = 'application/json'"
   ]
  },
  {
   "cell_type": "code",
   "execution_count": 14,
   "id": "cf1c9f7e",
   "metadata": {},
   "outputs": [
    {
     "name": "stdout",
     "output_type": "stream",
     "text": [
      " Here is my assessment of the candidate's resume:\n",
      "\n",
      "{\n",
      "  \"Candidate Name\": \"Samarth Sandeep Joshi\",\n",
      "  \"Positives\": [\n",
      "    \"Has experience as an email marketing executive\", \n",
      "    \"Has internship experience in digital marketing\",\n",
      "    \"Has skills in SEO, Google Ads, Facebook Ads\",\n",
      "    \"Has completed relevant certifications like Digital Marketing\"\n",
      "  ],\n",
      "  \"Negatives\": [\n",
      "    \"Limited full-time work experience of only 1.5 years\",\n",
      "    \"No major achievements or results highlighted from past roles\" \n",
      "  ],\n",
      "  \"Score out of 10\": 6,\n",
      "  \"Is candidate suitable for the role\": \"No\",\n",
      "  \"Remarks\": \"The candidate has some relevant skills and experience but lacks sufficient full-time work experience for the marketing executive role\",\n",
      "  \"Suggestions to applicant\": [\n",
      "    \"Gain more full-time experience in email, social media and search marketing\",\n",
      "    \"Highlight specific achievements, campaigns, results from past roles\", \n",
      "    \"Showcase proficiency in marketing tools like CRM, analytics etc.\"\n",
      "  ]\n",
      "}"
     ]
    }
   ],
   "source": [
    "bedrock_response = bedrock.invoke_model_with_response_stream(body=body, modelId=modelId, accept=accept, contentType=contentType)\n",
    "stream = bedrock_response.get('body')\n",
    "final_text = \"\"\n",
    "\n",
    "if stream:\n",
    "    for event in stream:\n",
    "        chunk = event.get('chunk')\n",
    "        if chunk:\n",
    "            completion = json.loads(chunk.get(\"bytes\")).get('completion')\n",
    "            print (json.loads(chunk.get (\"bytes\")).get('completion'), end=\"\")\n",
    "            if completion:\n",
    "                final_text += completion"
   ]
  },
  {
   "cell_type": "code",
   "execution_count": null,
   "id": "c40c37d4",
   "metadata": {},
   "outputs": [],
   "source": []
  }
 ],
 "metadata": {
  "kernelspec": {
   "display_name": "conda_python3",
   "language": "python",
   "name": "conda_python3"
  },
  "language_info": {
   "codemirror_mode": {
    "name": "ipython",
    "version": 3
   },
   "file_extension": ".py",
   "mimetype": "text/x-python",
   "name": "python",
   "nbconvert_exporter": "python",
   "pygments_lexer": "ipython3",
   "version": "3.10.12"
  }
 },
 "nbformat": 4,
 "nbformat_minor": 5
}
